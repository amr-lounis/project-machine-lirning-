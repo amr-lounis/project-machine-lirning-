{
 "cells": [
  {
   "cell_type": "code",
   "execution_count": 1,
   "metadata": {},
   "outputs": [
    {
     "name": "stdout",
     "output_type": "stream",
     "text": [
      "X_train.shape (1600, 7)\n",
      "Y_train.shape (1600, 1)\n",
      "X_test.shape (400, 7)\n",
      "Y_test.shape (400, 1)\n",
      "m = 1600\n",
      "n = 7\n"
     ]
    },
    {
     "name": "stderr",
     "output_type": "stream",
     "text": [
      "D:\\_Dev\\Anaconda3\\lib\\site-packages\\sklearn\\utils\\validation.py:72: DataConversionWarning: A column-vector y was passed when a 1d array was expected. Please change the shape of y to (n_samples, ), for example using ravel().\n",
      "  return f(**kwargs)\n"
     ]
    },
    {
     "data": {
      "text/plain": [
       "SVC(C=0.1, gamma=0.1)"
      ]
     },
     "execution_count": 1,
     "metadata": {},
     "output_type": "execute_result"
    }
   ],
   "source": [
    "#Importing the libraries\n",
    "import pandas as pd\n",
    "import numpy as np\n",
    "from sklearn import svm\n",
    "from sklearn.model_selection import train_test_split\n",
    "\n",
    "columns = [\n",
    "    'wifi_01',\n",
    "    'wifi_02',\n",
    "    'wifi_03',\n",
    "    'wifi_04',\n",
    "    'wifi_05',\n",
    "    'wifi_06',\n",
    "    'wifi_07',\n",
    "    'room'\n",
    "    ]\n",
    "\n",
    "def redData(path):\n",
    "    # read selected data\n",
    "    data = pd.read_csv(path,usecols=columns)\n",
    "    \n",
    "    # convert data to numpy matrix\n",
    "    cols = data.shape[1]\n",
    "    xd = data.iloc[:,0:cols-1]\n",
    "    yd = data.iloc[:,cols-1:cols] \n",
    "    x = np.matrix(xd.values)\n",
    "    y = np.matrix(yd.values)\n",
    "\n",
    "    return x,y,data\n",
    "\n",
    "#Importing the dataset\n",
    "X,y,data = redData('../data/data_clean.csv')\n",
    "\n",
    "x_train,  x_test, y_train, y_test = train_test_split(X, y, test_size= 0.2)\n",
    "print (\"X_train.shape\",x_train.shape)\n",
    "print (\"Y_train.shape\",y_train.shape)\n",
    "print (\"X_test.shape\",x_test.shape)\n",
    "print (\"Y_test.shape\",y_test.shape)\n",
    "\n",
    "print(f'm = {x_train.shape[0]}\\nn = {x_train.shape[1]}')\n",
    "\n",
    "svc = svm.SVC(C=0.1, kernel='rbf', gamma=0.1)\n",
    "svc.fit(x_train, y_train)\n",
    "\n",
    "# print('Train accuracy = {0}%'.format(np.round(svc.score(x_train, y_train) * 100, 2)))\n",
    "# print('Test accuracy = {0}%'.format(np.round(svc.score(x_test, y_test) * 100, 2)))\n"
   ]
  },
  {
   "cell_type": "code",
   "execution_count": 3,
   "metadata": {},
   "outputs": [
    {
     "name": "stdout",
     "output_type": "stream",
     "text": [
      "\n",
      "cm = [[ 89   0  11   0]\n",
      " [  0  87  11   0]\n",
      " [  0   0 108   0]\n",
      " [  0   0   1  93]]\n"
     ]
    }
   ],
   "source": [
    "y_pred = svc.predict(x_test)\n",
    "#Making the Confusion Matrix \n",
    "from sklearn.metrics import confusion_matrix\n",
    "c_m = confusion_matrix(y_test, y_pred)\n",
    "print(\"\\ncm =\",c_m)"
   ]
  },
  {
   "cell_type": "code",
   "execution_count": 4,
   "metadata": {},
   "outputs": [
    {
     "name": "stdout",
     "output_type": "stream",
     "text": [
      "The accuracy : 0.9425 \n",
      "\n",
      "presicion score : 0.9425 \n",
      "\n",
      "recall score : 0.9425 \n",
      "\n",
      "f1 score : 0.9425 \n",
      "\n"
     ]
    },
    {
     "name": "stderr",
     "output_type": "stream",
     "text": [
      "D:\\_Dev\\Anaconda3\\lib\\site-packages\\sklearn\\metrics\\_classification.py:1267: UserWarning: Note that pos_label (set to 'positive') is ignored when average != 'binary' (got 'micro'). You may use labels=[pos_label] to specify a single positive class.\n",
      "  warnings.warn(\"Note that pos_label (set to %r) is ignored when \"\n"
     ]
    },
    {
     "data": {
      "image/png": "[encoded data removed]",
      "text/plain": [
       "<Figure size 396x288 with 2 Axes>"
      ]
     },
     "metadata": {
      "needs_background": "light"
     },
     "output_type": "display_data"
    },
    {
     "name": "stdout",
     "output_type": "stream",
     "text": [
      "              precision    recall  f1-score   support\n",
      "\n",
      "       room1       1.00      0.89      0.94       100\n",
      "       room2       1.00      0.89      0.94        98\n",
      "       room3       0.82      1.00      0.90       108\n",
      "       room4       1.00      0.99      0.99        94\n",
      "\n",
      "    accuracy                           0.94       400\n",
      "   macro avg       0.96      0.94      0.95       400\n",
      "weighted avg       0.95      0.94      0.94       400\n",
      "\n"
     ]
    }
   ],
   "source": [
    "from sklearn import metrics\n",
    "from sklearn.metrics import confusion_matrix,precision_score,recall_score,f1_score ,classification_report\n",
    "import matplotlib.pyplot as plt\n",
    "import seaborn as sns\n",
    "#-----------------------------------------------------------------------------\n",
    "a_s= metrics.accuracy_score(y_pred,y_test)\n",
    "print('The accuracy :',a_s,\"\\n\")\n",
    "#-----------------------------------------------------------------------------\n",
    "p_s= precision_score(y_test, y_pred,pos_label='positive',average='micro')\n",
    "print('presicion score : {}'.format(p_s),\"\\n\")\n",
    "#-----------------------------------------------------------------------------\n",
    "r_s=recall_score(y_test, y_pred,pos_label='positive',average='micro')\n",
    "print('recall score : {}'.format(r_s),\"\\n\")\n",
    "#-----------------------------------------------------------------------------\n",
    "f1_s= f1_score(y_test, y_pred ,pos_label='positive',average='micro')\n",
    "print('f1 score : {}'.format(f1_s),\"\\n\")\n",
    "\n",
    "df_cm = pd.DataFrame(c_m,  index = [i for i in range(0,4)], columns = [i for i in range(0,4)])\n",
    "plt.figure(figsize=(5.5,4))\n",
    "sns.heatmap(df_cm, annot=True)\n",
    "plt.title('Neural Network \\n Accuracy:{}'.format(metrics.accuracy_score(y_test, y_pred)))\n",
    "plt.ylabel('true')\n",
    "plt.xlabel('predicted')\n",
    "plt.show()\n",
    "\n",
    "print(classification_report(y_test,y_pred,target_names=['room1','room2','room3','room4']))"
   ]
  },
  {
   "cell_type": "code",
   "execution_count": 5,
   "metadata": {},
   "outputs": [
    {
     "name": "stdout",
     "output_type": "stream",
     "text": [
      "Predection : /n [3 1 1 4 1 3 2 1 1 2 4 3 3 2 3 3 3 2 2 4 1 3 1 1 2 1 3 1 4 2 3 2 3 4 4 1 2\n",
      " 2 4 2 2 1 3 3 4 2 3 2 3 3 3 4 3 1 1 3 3 4 4 4 1 4 3 3 3 3 3 2 2 3 1 3 1 3\n",
      " 2 1 3 4 1 1 4 3 1 3 4 4 3 1 1 4 1 2 4 1 2 4 4 4 1 3 4 2 1 4 3 3 4 3 3 1 3\n",
      " 2 1 3 3 4 4 2 2 4 3 2 3 2 1 3 4 2 3 4 1 2 3 4 1 4 1 4 4 4 3 4 2 1 2 2 2 3\n",
      " 1 2 1 1 1 4 2 3 4 4 3 3 4 1 3 3 2 4 3 2 1 2 4 1 2 3 3 4 4 2 3 2 4 2 1 2 3\n",
      " 2 4 3 3 3 4 1 2 2 4 3 1 1 2 3 1 4 4 3 4 4 1 1 4 3 2 1 3 1 2 4 1 4 2 1 2 4\n",
      " 3 2 2 3 2 3 3 2 1 3 4 4 2 3 1 3 3 2 3 2 1 2 3 4 1 2 4 3 2 1 2 4 4 1 2 4 3\n",
      " 2 3 4 3 3 1 1 3 4 1 3 4 3 3 4 3 3 4 3 2 3 4 1 4 3 2 3 2 2 2 4 3 2 4 3 3 4\n",
      " 2 3 3 4 3 3 1 3 3 2 1 1 3 3 3 1 2 2 4 4 2 3 3 4 4 3 1 3 2 2 2 4 2 1 2 3 3\n",
      " 3 2 1 3 3 1 1 4 3 4 3 3 3 3 1 1 3 3 3 1 4 4 3 3 3 1 2 4 2 2 1 3 4 1 3 4 1\n",
      " 1 4 3 2 2 4 3 2 4 1 1 1 4 3 2 4 1 1 2 1 3 4 3 1 4 3 1 1 1 3]\n",
      "Class y : /n [[3 1 1 4 1 3 2 1 1 2 4 1 1 2 3 2 3 2 2 4 1 2 1 1 2 1 3 1 4 2 3 2 3 4 4 1\n",
      "  2 2 4 2 2 1 3 2 4 2 3 2 2 3 3 4 3 1 1 3 3 4 4 4 1 4 2 3 3 3 3 2 2 3 1 3\n",
      "  1 3 2 1 3 4 1 1 4 1 1 1 4 4 3 1 1 4 1 2 4 1 2 4 4 4 1 3 4 2 1 4 3 1 4 3\n",
      "  3 1 3 2 1 2 2 4 4 2 2 4 3 2 3 2 1 3 4 2 3 4 1 2 3 4 1 4 1 4 4 4 3 4 2 1\n",
      "  2 2 2 1 1 2 1 1 1 4 2 3 4 4 2 3 4 1 3 3 2 4 3 2 1 2 4 1 2 3 3 4 4 2 3 2\n",
      "  4 2 1 2 3 2 4 3 2 3 4 1 2 2 4 3 1 1 2 3 1 4 4 3 4 4 1 1 4 3 2 1 3 1 2 4\n",
      "  1 4 2 1 2 4 3 2 2 3 2 3 3 2 1 3 4 4 2 3 1 3 3 2 2 2 1 2 1 4 1 2 4 3 2 1\n",
      "  2 4 4 1 2 4 3 2 3 4 3 3 1 1 3 4 1 3 4 3 3 4 3 2 4 3 2 3 4 1 4 3 2 1 2 2\n",
      "  2 4 3 2 4 3 1 4 2 3 3 4 3 3 1 3 3 2 1 1 3 3 3 1 2 2 4 4 2 3 3 4 4 3 1 3\n",
      "  2 2 2 4 2 1 2 3 3 3 2 1 3 3 1 1 4 3 4 3 3 3 3 1 1 3 4 3 1 4 4 3 3 3 1 2\n",
      "  4 2 2 1 3 4 1 3 4 1 1 4 3 2 2 4 3 2 4 1 1 1 4 3 2 4 1 1 2 1 1 4 3 1 4 1\n",
      "  1 1 1 3]]\n"
     ]
    }
   ],
   "source": [
    "print(\"Predection : /n\", y_pred.T)\n",
    "print(\"Class y : /n\",  y_test.T)\n"
   ]
  },
  {
   "cell_type": "code",
   "execution_count": null,
   "metadata": {},
   "outputs": [],
   "source": []
  },
  {
   "cell_type": "code",
   "execution_count": null,
   "metadata": {},
   "outputs": [],
   "source": []
  }
 ],
 "metadata": {
  "kernelspec": {
   "display_name": "Python 3",
   "language": "python",
   "name": "python3"
  },
  "language_info": {
   "codemirror_mode": {
    "name": "ipython",
    "version": 3
   },
   "file_extension": ".py",
   "mimetype": "text/x-python",
   "name": "python",
   "nbconvert_exporter": "python",
   "pygments_lexer": "ipython3",
   "version": "3.8.5"
  }
 },
 "nbformat": 4,
 "nbformat_minor": 4
}
