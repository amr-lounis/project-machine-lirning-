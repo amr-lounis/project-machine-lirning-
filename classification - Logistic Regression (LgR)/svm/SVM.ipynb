{
 "cells": [
  {
   "cell_type": "code",
   "execution_count": 1,
   "metadata": {},
   "outputs": [
    {
     "name": "stdout",
     "output_type": "stream",
     "text": [
      "X_train.shape (1600, 7)\n",
      "Y_train.shape (1600, 1)\n",
      "X_test.shape (400, 7)\n",
      "Y_test.shape (400, 1)\n",
      "m = 1600\n",
      "n = 7\n"
     ]
    },
    {
     "name": "stderr",
     "output_type": "stream",
     "text": [
      "D:\\_Dev\\Anaconda3\\lib\\site-packages\\sklearn\\utils\\validation.py:72: DataConversionWarning: A column-vector y was passed when a 1d array was expected. Please change the shape of y to (n_samples, ), for example using ravel().\n",
      "  return f(**kwargs)\n"
     ]
    },
    {
     "name": "stdout",
     "output_type": "stream",
     "text": [
      "Train accuracy = 94.31%\n",
      "Test accuracy = 95.5%\n"
     ]
    }
   ],
   "source": [
    "#Importing the libraries\n",
    "import pandas as pd\n",
    "import numpy as np\n",
    "from sklearn import svm\n",
    "from sklearn.model_selection import train_test_split\n",
    "\n",
    "columns = [\n",
    "    'wifi_01',\n",
    "    'wifi_02',\n",
    "    'wifi_03',\n",
    "    'wifi_04',\n",
    "    'wifi_05',\n",
    "    'wifi_06',\n",
    "    'wifi_07',\n",
    "    'room'\n",
    "    ]\n",
    "\n",
    "def redData(path):\n",
    "    # read selected data\n",
    "    data = pd.read_csv(path,usecols=columns)\n",
    "    \n",
    "    # convert data to numpy matrix\n",
    "    cols = data.shape[1]\n",
    "    xd = data.iloc[:,0:cols-1]\n",
    "    yd = data.iloc[:,cols-1:cols] \n",
    "    x = np.matrix(xd.values)\n",
    "    y = np.matrix(yd.values)\n",
    "\n",
    "    return x,y,data\n",
    "\n",
    "#Importing the dataset\n",
    "X,y,data = redData('../data/data_clean.csv')\n",
    "\n",
    "x_train,  x_test, y_train, y_test = train_test_split(X, y, test_size= 0.2)\n",
    "print (\"X_train.shape\",x_train.shape)\n",
    "print (\"Y_train.shape\",y_train.shape)\n",
    "print (\"X_test.shape\",x_test.shape)\n",
    "print (\"Y_test.shape\",y_test.shape)\n",
    "\n",
    "print(f'm = {x_train.shape[0]}\\nn = {x_train.shape[1]}')\n",
    "\n",
    "svc = svm.SVC(C=0.1, kernel='rbf', gamma=0.1)\n",
    "y_pre=svc.fit(x_train, y_train)\n",
    "\n",
    "print('Train accuracy = {0}%'.format(np.round(svc.score(x_train, y_train) * 100, 2)))\n",
    "print('Test accuracy = {0}%'.format(np.round(svc.score(x_test, y_test) * 100, 2)))\n"
   ]
  },
  {
   "cell_type": "code",
   "execution_count": 2,
   "metadata": {},
   "outputs": [
    {
     "name": "stdout",
     "output_type": "stream",
     "text": [
      "y_pred= [3, 2, 1, 1, 1, 1, 3, 3, 1, 4, 2, 3, 1, 4, 4, 4, 1, 3, 4, 3, 2, 2, 2, 1, 2, 4, 3, 4, 2, 1, 2, 1, 2, 4, 3, 1, 2, 1, 3, 4, 3, 1, 2, 1, 1, 1, 3, 1, 3, 4, 1, 2, 4, 4, 4, 3, 3, 3, 3, 1, 3, 3, 1, 2, 3, 3, 1, 2, 1, 3, 3, 1, 1, 2, 4, 4, 3, 1, 3, 2, 1, 4, 1, 3, 4, 3, 1, 3, 4, 3, 2, 1, 3, 1, 4, 4, 3, 2, 3, 2, 4, 3, 2, 3, 3, 4, 3, 1, 1, 2, 1, 3, 1, 3, 4, 2, 3, 1, 2, 3, 2, 4, 3, 4, 3, 1, 1, 4, 3, 4, 2, 2, 1, 2, 4, 1, 2, 4, 3, 4, 2, 1, 3, 1, 3, 3, 1, 1, 3, 1, 2, 1, 3, 2, 1, 1, 4, 1, 4, 2, 4, 1, 2, 3, 2, 1, 3, 1, 1, 3, 1, 4, 2, 4, 3, 1, 3, 3, 3, 1, 4, 2, 2, 3, 1, 1, 1, 1, 3, 4, 3, 1, 3, 2, 4, 2, 4, 3, 4, 3, 3, 4, 1, 3, 3, 2, 2, 4, 4, 2, 4, 3, 2, 2, 3, 4, 1, 3, 4, 2, 4, 1, 2, 2, 1, 3, 4, 4, 3, 2, 3, 3, 4, 4, 4, 3, 3, 2, 4, 3, 4, 3, 2, 1, 3, 4, 3, 2, 2, 4, 1, 2, 1, 1, 3, 3, 1, 2, 2, 1, 3, 2, 4, 1, 2, 4, 1, 2, 1, 3, 2, 2, 3, 3, 4, 1, 4, 1, 4, 1, 1, 3, 2, 4, 3, 1, 4, 1, 2, 3, 3, 1, 4, 2, 4, 4, 1, 4, 3, 1, 3, 1, 1, 4, 4, 3, 3, 3, 3, 2, 3, 2, 2, 4, 1, 1, 3, 2, 2, 2, 2, 1, 2, 4, 4, 2, 3, 3, 3, 2, 3, 1, 4, 2, 2, 3, 2, 3, 2, 3, 1, 1, 2, 3, 1, 4, 4, 2, 2, 3, 3, 3, 3, 3, 1, 4, 1, 2, 2, 2, 2, 4, 2, 3, 1, 2, 4, 4, 3, 2, 3, 2, 4, 2, 1, 2, 3, 1, 2, 2, 3, 3, 1, 3, 1, 2, 3, 3, 3, 3, 4, 3, 1, 2, 1, 2, 3, 4, 1, 4]\n"
     ]
    }
   ],
   "source": [
    "y_pre = svc.predict(x_test)\n",
    "\n",
    "print('y_pred=',list(np.squeeze(np.asarray(y_test))))"
   ]
  },
  {
   "cell_type": "code",
   "execution_count": null,
   "metadata": {},
   "outputs": [],
   "source": []
  }
 ],
 "metadata": {
  "kernelspec": {
   "display_name": "Python 3",
   "language": "python",
   "name": "python3"
  },
  "language_info": {
   "codemirror_mode": {
    "name": "ipython",
    "version": 3
   },
   "file_extension": ".py",
   "mimetype": "text/x-python",
   "name": "python",
   "nbconvert_exporter": "python",
   "pygments_lexer": "ipython3",
   "version": "3.8.5"
  }
 },
 "nbformat": 4,
 "nbformat_minor": 4
}
