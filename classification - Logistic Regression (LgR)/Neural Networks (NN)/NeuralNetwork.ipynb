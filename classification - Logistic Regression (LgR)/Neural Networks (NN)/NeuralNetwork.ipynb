{
 "cells": [
  {
   "cell_type": "markdown",
   "metadata": {},
   "source": [
    "# Classification project neural network"
   ]
  },
  {
   "cell_type": "markdown",
   "metadata": {},
   "source": [
    "## import libray"
   ]
  },
  {
   "cell_type": "code",
   "execution_count": 1,
   "metadata": {},
   "outputs": [],
   "source": [
    "import numpy as np\n",
    "import pandas as pd\n",
    "#Deviding the data set \n",
    "from sklearn.model_selection import train_test_split\n",
    "# neural network\n",
    "from sklearn.neural_network import MLPClassifier\n",
    "from sklearn import metrics\n",
    "\n",
    "from sklearn.metrics import confusion_matrix,precision_score,recall_score,f1_score ,classification_report\n",
    "import matplotlib.pyplot as plt\n",
    "import seaborn as sns"
   ]
  },
  {
   "cell_type": "markdown",
   "metadata": {},
   "source": [
    "## select columns"
   ]
  },
  {
   "cell_type": "code",
   "execution_count": 2,
   "metadata": {},
   "outputs": [],
   "source": [
    "columns = [\n",
    "    'wifi_01',\n",
    "    'wifi_02',\n",
    "    'wifi_03',\n",
    "    'wifi_04',\n",
    "    'wifi_05',\n",
    "    'wifi_06',\n",
    "    'wifi_07',\n",
    "    'room'\n",
    "    ]"
   ]
  },
  {
   "cell_type": "markdown",
   "metadata": {},
   "source": [
    "## function read data"
   ]
  },
  {
   "cell_type": "code",
   "execution_count": 3,
   "metadata": {},
   "outputs": [],
   "source": [
    "def redData(path):\n",
    "    # read selected data\n",
    "    data = pd.read_csv(path,usecols=columns)\n",
    "    \n",
    "    # rescaling data\n",
    "    for i in range(0,len(columns)-1):\n",
    "        data[columns[i]] = (data[columns[i]] - data[columns[i]].min()) / (data[columns[i]].max()-data[columns[i]].min())\n",
    "    \n",
    "    # convert data to numpy matrix\n",
    "    cols = data.shape[1]\n",
    "    xd = data.iloc[:,0:cols-1]\n",
    "    yd = data.iloc[:,cols-1:cols] \n",
    "    x = np.matrix(xd.values)\n",
    "    y = np.matrix(yd.values)\n",
    "    \n",
    "    return x,y,data"
   ]
  },
  {
   "cell_type": "markdown",
   "metadata": {},
   "source": [
    "## read data"
   ]
  },
  {
   "cell_type": "code",
   "execution_count": 4,
   "metadata": {},
   "outputs": [],
   "source": [
    "X,y,data = redData('../data/data_clean.csv')"
   ]
  },
  {
   "cell_type": "markdown",
   "metadata": {},
   "source": [
    "## split data to two part : taning 80% and test 20%"
   ]
  },
  {
   "cell_type": "code",
   "execution_count": 5,
   "metadata": {},
   "outputs": [
    {
     "name": "stdout",
     "output_type": "stream",
     "text": [
      "X_train.shape (1600, 7)\n",
      "Y_train.shape (1600, 1)\n",
      "X_test.shape (400, 7)\n",
      "Y_test.shape (400, 1)\n"
     ]
    }
   ],
   "source": [
    "X_train,  X_test, y_train, y_test = train_test_split(X, y, test_size= 0.2)\n",
    "print (\"X_train.shape\",X_train.shape)\n",
    "print (\"Y_train.shape\",y_train.shape)\n",
    "print (\"X_test.shape\",X_test.shape)\n",
    "print (\"Y_test.shape\",y_test.shape)"
   ]
  },
  {
   "cell_type": "markdown",
   "metadata": {},
   "source": [
    "## training par"
   ]
  },
  {
   "cell_type": "code",
   "execution_count": 6,
   "metadata": {},
   "outputs": [
    {
     "name": "stderr",
     "output_type": "stream",
     "text": [
      "D:\\_Dev\\Anaconda3\\lib\\site-packages\\sklearn\\utils\\validation.py:72: DataConversionWarning: A column-vector y was passed when a 1d array was expected. Please change the shape of y to (n_samples, ), for example using ravel().\n",
      "  return f(**kwargs)\n"
     ]
    },
    {
     "data": {
      "text/plain": [
       "MLPClassifier(alpha=0.01, hidden_layer_sizes=(7, 6), random_state=1,\n",
       "              solver='lbfgs')"
      ]
     },
     "execution_count": 6,
     "metadata": {},
     "output_type": "execute_result"
    }
   ],
   "source": [
    "_alpha =0.1 #2\n",
    "_hiddenLS = (7, 6)\n",
    "# clf = MLPClassifier(solver='lbfgs', alpha=_alpha, hidden_layer_sizes=_hiddenLS, random_state=1,verbose=False)\n",
    "# clf.fit( X_train, y_train )\n",
    "\n",
    "clf = MLPClassifier(solver='lbfgs', alpha=0.01, hidden_layer_sizes=_hiddenLS, random_state=1)\n",
    "clf.fit(X_train, y_train)"
   ]
  },
  {
   "cell_type": "markdown",
   "metadata": {},
   "source": [
    "## testing part"
   ]
  },
  {
   "cell_type": "code",
   "execution_count": 7,
   "metadata": {},
   "outputs": [
    {
     "name": "stdout",
     "output_type": "stream",
     "text": [
      "Predection : /n [2 2 2 2 1 2 1 4 4 3 4 4 4 1 3 1 3 4 3 4 1 4 4 2 2 2 4 2 2 1 2 1 1 4 1 1 2\n",
      " 1 2 3 1 2 1 4 2 1 3 4 2 1 2 4 1 4 3 1 1 2 1 1 3 4 2 2 4 3 3 3 2 3 1 2 4 1\n",
      " 3 4 4 3 4 3 1 2 4 2 1 4 1 2 4 3 4 2 1 4 4 3 1 4 1 2 3 4 3 4 1 1 1 1 1 2 2\n",
      " 3 1 2 4 3 1 3 3 2 2 4 4 3 3 3 2 4 2 4 4 3 2 1 1 1 2 4 3 1 3 4 1 4 4 1 3 3\n",
      " 1 3 3 3 3 1 2 4 4 4 4 4 4 3 4 3 3 4 4 2 3 1 1 2 3 3 2 4 3 2 3 3 4 4 2 2 2\n",
      " 1 2 4 3 2 1 4 3 3 1 4 4 1 3 4 1 3 4 1 4 3 1 4 3 4 3 2 4 4 4 2 3 2 1 4 2 3\n",
      " 1 4 4 3 2 2 4 4 2 1 1 2 3 3 1 2 2 4 2 2 3 4 4 1 3 4 3 1 3 3 4 2 4 3 4 4 3\n",
      " 2 3 1 1 3 2 4 1 2 1 2 1 3 4 2 1 2 2 3 3 3 2 1 4 1 2 4 1 3 2 2 2 4 2 1 2 3\n",
      " 3 1 1 1 3 3 3 3 1 3 2 2 1 4 1 4 2 2 3 4 4 4 2 1 3 1 1 1 2 3 2 1 2 2 3 2 4\n",
      " 4 4 4 2 3 1 3 3 2 3 1 1 1 4 3 4 3 4 4 4 1 1 4 3 1 3 4 2 1 3 3 4 2 4 3 1 2\n",
      " 2 4 3 4 4 2 1 1 1 3 1 2 2 1 4 4 4 2 4 2 2 1 2 1 3 3 4 1 3 3]\n",
      "Class y : /n [[2 2 2 2 1 2 1 4 4 3 4 4 4 1 3 1 3 4 3 4 1 1 4 2 2 2 4 2 2 1 2 1 1 4 1 1\n",
      "  2 1 2 3 1 2 1 4 2 1 3 4 2 1 2 4 1 4 3 1 1 2 1 1 3 4 2 2 4 2 3 3 2 3 1 2\n",
      "  4 1 3 4 4 3 4 3 1 2 4 2 1 4 1 2 4 2 4 2 1 4 4 3 1 4 1 2 3 4 3 4 1 1 1 1\n",
      "  1 2 2 3 1 2 4 3 1 3 3 2 2 4 4 3 3 3 2 4 2 4 4 3 2 1 1 1 2 4 3 1 3 4 1 4\n",
      "  4 1 3 3 1 3 3 3 3 1 2 4 4 4 4 4 4 3 4 3 3 4 4 2 3 1 1 2 3 3 2 4 3 2 3 3\n",
      "  4 4 2 2 2 1 2 4 3 2 1 4 3 3 1 4 4 1 3 4 1 3 4 1 4 3 1 4 2 4 3 2 4 4 4 2\n",
      "  3 3 1 4 2 3 1 4 4 3 2 2 4 4 2 1 1 2 3 3 1 2 2 4 2 2 3 4 4 1 3 4 3 1 3 3\n",
      "  4 2 4 3 4 4 3 2 3 1 1 3 2 4 1 2 1 2 1 3 4 3 1 2 2 3 3 3 2 1 4 1 2 4 1 3\n",
      "  2 2 2 4 2 1 2 3 3 1 1 1 3 3 3 3 1 3 2 2 1 4 1 4 2 2 3 4 4 4 2 1 3 1 1 1\n",
      "  2 3 2 1 2 2 3 2 4 4 4 4 2 3 1 3 3 2 3 1 1 1 4 3 4 3 4 4 4 1 1 4 3 1 3 4\n",
      "  2 1 3 3 4 2 4 3 1 2 2 4 3 4 4 2 1 1 1 3 1 2 2 1 4 3 4 2 4 2 2 1 2 1 3 3\n",
      "  4 1 3 3]]\n"
     ]
    }
   ],
   "source": [
    "prediction = clf.predict(X_test)\n",
    "print(\"Predection : /n\", prediction.T)\n",
    "print(\"Class y : /n\",  y_test.T)"
   ]
  },
  {
   "cell_type": "markdown",
   "metadata": {},
   "source": [
    "## confusion matrix "
   ]
  },
  {
   "cell_type": "code",
   "execution_count": 8,
   "metadata": {},
   "outputs": [
    {
     "name": "stdout",
     "output_type": "stream",
     "text": [
      "confusion matrix :\n",
      " [[ 97   0   0   1]\n",
      " [  0  94   3   0]\n",
      " [  0   2  96   1]\n",
      " [  0   0   0 106]] \n",
      "\n"
     ]
    }
   ],
   "source": [
    "c_m =confusion_matrix(y_test,prediction)\n",
    "print('confusion matrix :\\n',c_m,\"\\n\")"
   ]
  },
  {
   "cell_type": "markdown",
   "metadata": {},
   "source": [
    "## The accuracy"
   ]
  },
  {
   "cell_type": "code",
   "execution_count": 9,
   "metadata": {},
   "outputs": [
    {
     "name": "stdout",
     "output_type": "stream",
     "text": [
      "The accuracy : 0.9825\n"
     ]
    }
   ],
   "source": [
    "print('The accuracy :',metrics.accuracy_score(prediction,y_test))"
   ]
  },
  {
   "cell_type": "markdown",
   "metadata": {},
   "source": [
    "## other"
   ]
  },
  {
   "cell_type": "code",
   "execution_count": 10,
   "metadata": {},
   "outputs": [
    {
     "name": "stdout",
     "output_type": "stream",
     "text": [
      "The accuracy : 0.9825 \n",
      "\n",
      "presicion score : 0.9825 \n",
      "\n",
      "recall score : 0.9825 \n",
      "\n",
      "f1 score : 0.9825 \n",
      "\n"
     ]
    },
    {
     "name": "stderr",
     "output_type": "stream",
     "text": [
      "D:\\_Dev\\Anaconda3\\lib\\site-packages\\sklearn\\metrics\\_classification.py:1267: UserWarning: Note that pos_label (set to 'positive') is ignored when average != 'binary' (got 'micro'). You may use labels=[pos_label] to specify a single positive class.\n",
      "  warnings.warn(\"Note that pos_label (set to %r) is ignored when \"\n"
     ]
    },
    {
     "data": {
      "image/png": "[encoded data removed]",
      "text/plain": [
       "<Figure size 396x288 with 2 Axes>"
      ]
     },
     "metadata": {
      "needs_background": "light"
     },
     "output_type": "display_data"
    },
    {
     "name": "stdout",
     "output_type": "stream",
     "text": [
      "              precision    recall  f1-score   support\n",
      "\n",
      "       room1       1.00      0.99      0.99        98\n",
      "       room2       0.98      0.97      0.97        97\n",
      "       room3       0.97      0.97      0.97        99\n",
      "       room4       0.98      1.00      0.99       106\n",
      "\n",
      "    accuracy                           0.98       400\n",
      "   macro avg       0.98      0.98      0.98       400\n",
      "weighted avg       0.98      0.98      0.98       400\n",
      "\n"
     ]
    }
   ],
   "source": [
    "#-----------------------------------------------------------------------------\n",
    "p_s= metrics.accuracy_score(prediction,y_test)\n",
    "print('The accuracy :',p_s,\"\\n\")\n",
    "#-----------------------------------------------------------------------------\n",
    "p_s= precision_score(y_test, prediction,pos_label='positive',average='micro')\n",
    "print('presicion score : {}'.format(p_s),\"\\n\")\n",
    "#-----------------------------------------------------------------------------\n",
    "r_s=recall_score(y_test, prediction,pos_label='positive',average='micro')\n",
    "print('recall score : {}'.format(r_s),\"\\n\")\n",
    "#-----------------------------------------------------------------------------\n",
    "f1_s= f1_score(y_test, prediction ,pos_label='positive',average='micro')\n",
    "print('f1 score : {}'.format(f1_s),\"\\n\")\n",
    "#-----------------------------------------------------------------------------\n",
    "df_cm = pd.DataFrame(c_m,  index = [i for i in range(0,4)], columns = [i for i in range(0,4)])\n",
    "plt.figure(figsize=(5.5,4))\n",
    "sns.heatmap(df_cm, annot=True)\n",
    "plt.title('Neural Network \\n Accuracy:{}'.format(metrics.accuracy_score(y_test, prediction)))\n",
    "plt.ylabel('true')\n",
    "plt.xlabel('predicted')\n",
    "plt.show()\n",
    "\n",
    "print(classification_report(y_test,prediction,target_names=['room1','room2','room3','room4']))\n"
   ]
  }
 ],
 "metadata": {
  "kernelspec": {
   "display_name": "Python 3",
   "language": "python",
   "name": "python3"
  },
  "language_info": {
   "codemirror_mode": {
    "name": "ipython",
    "version": 3
   },
   "file_extension": ".py",
   "mimetype": "text/x-python",
   "name": "python",
   "nbconvert_exporter": "python",
   "pygments_lexer": "ipython3",
   "version": "3.8.5"
  }
 },
 "nbformat": 4,
 "nbformat_minor": 4
}
