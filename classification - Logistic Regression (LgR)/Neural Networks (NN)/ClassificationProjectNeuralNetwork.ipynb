{
 "cells": [
  {
   "cell_type": "markdown",
   "metadata": {},
   "source": [
    "# Classification project neural network"
   ]
  },
  {
   "cell_type": "markdown",
   "metadata": {},
   "source": [
    "## import libray"
   ]
  },
  {
   "cell_type": "code",
   "execution_count": 20,
   "metadata": {},
   "outputs": [],
   "source": [
    "#pip install mglearn\n",
    "# %matplotlib inline\n",
    "import numpy as np\n",
    "import pandas as pd\n",
    "#Deviding the data set \n",
    "from sklearn.model_selection import train_test_split\n",
    "# neural network\n",
    "from sklearn.neural_network import MLPClassifier\n",
    "from sklearn import metrics\n",
    "from sklearn.metrics import  confusion_matrix\n",
    "import mglearn\n",
    "from sklearn.metrics import  confusion_matrix\n",
    "from sklearn.datasets import make_moons"
   ]
  },
  {
   "cell_type": "markdown",
   "metadata": {},
   "source": [
    "## select data file"
   ]
  },
  {
   "cell_type": "code",
   "execution_count": 21,
   "metadata": {},
   "outputs": [],
   "source": [
    "pathcsv = './output.csv'"
   ]
  },
  {
   "cell_type": "markdown",
   "metadata": {},
   "source": [
    "## select columns"
   ]
  },
  {
   "cell_type": "code",
   "execution_count": 22,
   "metadata": {},
   "outputs": [],
   "source": [
    "# ------------------------------- data selected\n",
    "columns = [\n",
    "'commitMessageLengthTotal',\n",
    "'averageCommitMessageLengthTotalByWeek',\n",
    "'standardDeviationCommitMessageLengthTotalByStudent',\n",
    "'averageCommitMessageLengthTotalByStudent',\n",
    "'commitCount',\n",
    "'uniqueCommitMessageCount',\n",
    "'teamNumber',\n",
    "'commitMessageLengthStandardDeviation',\n",
    "'averageCommitMessageLengthAverageByStudent',\n",
    "'averageCommitMessageLengthStandardDeviationByStudent',\n",
    "'standardDeviationCommitMessageLengthAverageByStudent',\n",
    "'commitMessageLengthAverage',\n",
    "'averageCommitCountByWeek',\n",
    "'averageUniqueCommitMessageCountByWeek',\n",
    "'standardDeviationCommitCountByStudent',\n",
    "'productLetterGrade',\n",
    "]\n",
    "\n",
    "n_cols = len(columns)   "
   ]
  },
  {
   "cell_type": "markdown",
   "metadata": {},
   "source": [
    "## function read data"
   ]
  },
  {
   "cell_type": "code",
   "execution_count": 23,
   "metadata": {},
   "outputs": [],
   "source": [
    "# ------------------------------- function read data   \n",
    "def redData(path):\n",
    "    # read selected data without commant\n",
    "    data = pd.read_csv(path,comment='#',usecols=columns, sep=',')\n",
    "    # convert F to 0 and A to 1 in last colomn\n",
    "    data[columns[len(columns)-1]]=data[columns[len(columns)-1]].str.replace('A', '1').str.replace('F', '0').astype(int) \n",
    "    # convert data to numpy matrix\n",
    "    cols = data.shape[1]\n",
    "    xd = data.iloc[:,0:cols-1]\n",
    "    yd = data.iloc[:,cols-1:cols] \n",
    "    x = np.matrix(xd.values)\n",
    "    y = np.matrix(yd.values)\n",
    "    \n",
    "    print(\"nomber of allcolomn in csv file selected: \",len(columns))   \n",
    "    print(\"X shape: \",x.shape) \n",
    "    print(\"y shape: \",y.shape) \n",
    "    return x,y,data"
   ]
  },
  {
   "cell_type": "markdown",
   "metadata": {},
   "source": [
    "## read data"
   ]
  },
  {
   "cell_type": "code",
   "execution_count": 24,
   "metadata": {},
   "outputs": [
    {
     "name": "stdout",
     "output_type": "stream",
     "text": [
      "------------------------------- init data \n",
      "nomber of allcolomn in csv file selected:  16\n",
      "X shape:  (74, 15)\n",
      "y shape:  (74, 1)\n"
     ]
    }
   ],
   "source": [
    "print(\"------------------------------- init data \") # ------------------------------- init data\n",
    "X,y,data = redData(pathcsv)"
   ]
  },
  {
   "cell_type": "markdown",
   "metadata": {},
   "source": [
    "## split data to two part : taning 80% and test 20%"
   ]
  },
  {
   "cell_type": "code",
   "execution_count": 25,
   "metadata": {},
   "outputs": [
    {
     "name": "stdout",
     "output_type": "stream",
     "text": [
      "X_train.shape (59, 15)\n",
      "Y_train.shape (59, 1)\n",
      "X_test.shape (15, 15)\n",
      "Y_test.shape (15, 1)\n"
     ]
    }
   ],
   "source": [
    "X_train,  X_test, y_train, y_test = train_test_split(X, y, test_size= 0.2)\n",
    "print (\"X_train.shape\",X_train.shape)\n",
    "print (\"Y_train.shape\",y_train.shape)\n",
    "print (\"X_test.shape\",X_test.shape)\n",
    "print (\"Y_test.shape\",y_test.shape)"
   ]
  },
  {
   "cell_type": "markdown",
   "metadata": {},
   "source": [
    "## training par"
   ]
  },
  {
   "cell_type": "code",
   "execution_count": 26,
   "metadata": {},
   "outputs": [
    {
     "name": "stdout",
     "output_type": "stream",
     "text": [
      "------------------------------- part train \n"
     ]
    },
    {
     "name": "stderr",
     "output_type": "stream",
     "text": [
      "D:\\_Dev\\Anaconda3\\lib\\site-packages\\sklearn\\utils\\validation.py:72: DataConversionWarning: A column-vector y was passed when a 1d array was expected. Please change the shape of y to (n_samples, ), for example using ravel().\n",
      "  return f(**kwargs)\n"
     ]
    },
    {
     "data": {
      "text/plain": [
       "MLPClassifier(alpha=1e-06, hidden_layer_sizes=4, random_state=1, solver='lbfgs')"
      ]
     },
     "execution_count": 26,
     "metadata": {},
     "output_type": "execute_result"
    }
   ],
   "source": [
    "print(\"------------------------------- part train \") # ------------------------------- part train\n",
    "_alpha =0.000001 #2\n",
    "_hiddenLS = 4#(10, 10)\n",
    "clf = MLPClassifier(solver='lbfgs', alpha=_alpha, hidden_layer_sizes=_hiddenLS, random_state=1,verbose=False)\n",
    "clf.fit( X_train, y_train )"
   ]
  },
  {
   "cell_type": "markdown",
   "metadata": {},
   "source": [
    "## testing part"
   ]
  },
  {
   "cell_type": "code",
   "execution_count": 27,
   "metadata": {},
   "outputs": [
    {
     "name": "stdout",
     "output_type": "stream",
     "text": [
      "------------------------------- part test \n",
      "Predection : /n [0 1 1 1 0 1 1 1 1 0 1 0 1 0 1]\n",
      "Class y : /n [[1 1 1 1 0 1 0 1 0 0 0 0 1 1 1]]\n"
     ]
    }
   ],
   "source": [
    "print(\"------------------------------- part test \") # ------------------------------- part test\n",
    "prediction = clf.predict(X_test)\n",
    "print(\"Predection : /n\", prediction.T)\n",
    "print(\"Class y : /n\",  y_test.T)"
   ]
  },
  {
   "cell_type": "markdown",
   "metadata": {},
   "source": [
    "## confusion matrix "
   ]
  },
  {
   "cell_type": "code",
   "execution_count": 28,
   "metadata": {},
   "outputs": [
    {
     "name": "stdout",
     "output_type": "stream",
     "text": [
      "confusion matrix :\n",
      " [[3 3]\n",
      " [2 7]]\n"
     ]
    }
   ],
   "source": [
    "print('confusion matrix :\\n',confusion_matrix(y_test,prediction))"
   ]
  },
  {
   "cell_type": "markdown",
   "metadata": {},
   "source": [
    "## The accuracy"
   ]
  },
  {
   "cell_type": "code",
   "execution_count": 29,
   "metadata": {},
   "outputs": [
    {
     "name": "stdout",
     "output_type": "stream",
     "text": [
      "The accuracy : 0.6666666666666666\n"
     ]
    }
   ],
   "source": [
    "print('The accuracy :',metrics.accuracy_score(prediction,y_test))"
   ]
  },
  {
   "cell_type": "markdown",
   "metadata": {},
   "source": [
    "## plot"
   ]
  },
  {
   "cell_type": "code",
   "execution_count": 14,
   "metadata": {},
   "outputs": [],
   "source": [
    "# def plotDB(_clf,_X_train, _y_train):\n",
    "#     mglearn.plots.plot_2d_separator(_clf, _X_train, fill=True, alpha=.3)\n",
    "#     mglearn.discrete_scatter(_X_train[:, 0], _X_train[:, 1], _y_train)\n",
    "#     # plt.xlabel(\"Feature 0\")\n",
    "#     # plt.ylabel(\"Feature 1\")\n",
    "#     # plt.title(\"Decision Boundary \")\n",
    "\n",
    "# # X, y = make_moons(n_samples=100, noise=0.25, random_state=3)\n",
    "\n",
    "# X_train, X_test, y_train, y_test = train_test_split(X, y, random_state=42)\n",
    "# clf = MLPClassifier(solver ='lbfgs', random_state=0).fit(X_train, y_train)\n",
    "\n",
    "# plotDB(clf,X_test,y_test)"
   ]
  },
  {
   "cell_type": "markdown",
   "metadata": {},
   "source": [
    "# End"
   ]
  },
  {
   "cell_type": "code",
   "execution_count": null,
   "metadata": {},
   "outputs": [],
   "source": [
    "Print(\"------------------------------- END \") # ------------------------------- END"
   ]
  }
 ],
 "metadata": {
  "kernelspec": {
   "display_name": "Python 3",
   "language": "python",
   "name": "python3"
  },
  "language_info": {
   "codemirror_mode": {
    "name": "ipython",
    "version": 3
   },
   "file_extension": ".py",
   "mimetype": "text/x-python",
   "name": "python",
   "nbconvert_exporter": "python",
   "pygments_lexer": "ipython3",
   "version": "3.8.5"
  }
 },
 "nbformat": 4,
 "nbformat_minor": 4
}
