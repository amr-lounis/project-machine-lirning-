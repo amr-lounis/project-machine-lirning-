{
 "cells": [
  {
   "cell_type": "markdown",
   "metadata": {},
   "source": [
    "### import library and read file"
   ]
  },
  {
   "cell_type": "code",
   "execution_count": 1,
   "metadata": {},
   "outputs": [],
   "source": [
    "import pandas as pd\n",
    "\n",
    "_path_data = '../data/'\n",
    "_path = _path_data+'wifi_localization.txt'\n",
    "\n",
    "columns = [\n",
    "    'wifi_01',\n",
    "    'wifi_02',\n",
    "    'wifi_03',\n",
    "    'wifi_04',\n",
    "    'wifi_05',\n",
    "    'wifi_06',\n",
    "    'wifi_07',\n",
    "    'room']\n",
    "\n",
    "data = pd.read_csv(_path, header=None, names=columns , sep='\\t')"
   ]
  },
  {
   "cell_type": "markdown",
   "metadata": {},
   "source": [
    "### (Normalization) rescaling data but last one column"
   ]
  },
  {
   "cell_type": "code",
   "execution_count": 2,
   "metadata": {},
   "outputs": [],
   "source": [
    "for i in range(0,len(columns)-1):\n",
    "    data[columns[i]] = (data[columns[i]] - data[columns[i]].min()) / (data[columns[i]].max()-data[columns[i]].min())"
   ]
  },
  {
   "cell_type": "markdown",
   "metadata": {},
   "source": [
    "### save file csv"
   ]
  },
  {
   "cell_type": "code",
   "execution_count": 3,
   "metadata": {},
   "outputs": [],
   "source": [
    "data.to_csv(_path_data+'data_clean.csv', index=False, encoding='utf-8-sig')"
   ]
  },
  {
   "cell_type": "markdown",
   "metadata": {},
   "source": [
    "### create dataset for one vs rest model\n",
    "Default class of files (data_clean_one_vs_rest_1.csv) Is room 1 equals 1 and others rooms equals 0\n",
    "\n",
    "Default class of files (data_clean_one_vs_rest_2.csv) Is room 2 equals 1 and others rooms equals 0\n",
    "\n",
    "Default class of files (data_clean_one_vs_rest_3.csv) Is room 3 equals 1 and others rooms equals 0\n",
    "\n",
    "Default class of files (data_clean_one_vs_rest_4.csv) Is room 4 equals 1 and others rooms equals 0"
   ]
  },
  {
   "cell_type": "code",
   "execution_count": 4,
   "metadata": {},
   "outputs": [],
   "source": [
    "def select_one_vs_rest(_data,_room):\n",
    "    tmp =  _data.copy()\n",
    "    tmp.loc[tmp['room'] != _room , 'room'] = 0\n",
    "    tmp.loc[tmp['room'] == _room , 'room'] = 1\n",
    "    tmp.to_csv(_path_data + f'data_clean_one_vs_rest_{_room}.csv',\n",
    "               index=False, encoding='utf-8-sig') \n",
    "\t\n",
    "# create dataset for one vs rest model\n",
    "select_one_vs_rest(data,1)\n",
    "select_one_vs_rest(data,2)\n",
    "select_one_vs_rest(data,3)\n",
    "select_one_vs_rest(data,4)"
   ]
  },
  {
   "cell_type": "code",
   "execution_count": 5,
   "metadata": {},
   "outputs": [],
   "source": [
    "#this function create dataset for one vs one model\n",
    "# def select_one_vs_one(_data,_room1,_room2):\n",
    "#     _rooms_selected = [_room1,_room2]\n",
    "#     for i in range(1,5):\n",
    "#         if(i not in _rooms_selected):\n",
    "#             room_delete= _data[_data['room']  == i ].index\n",
    "#             _data = _data.drop(room_delete)\n",
    "#     _data['room'] = (_data['room']==_rooms_selected[0]).astype(int)\n",
    "#     _data.to_csv(_path_data + f'data_clean_one_vs_one_{_room1}vs{_room2}.csv', index=False, encoding='utf-8-sig')\n",
    "\t\n",
    "# create dataset for one vs one model\n",
    "# select_one_vs_one(data,1,2)\n",
    "# select_one_vs_one(data,1,3)\n",
    "# select_one_vs_one(data,1,4)\n",
    "# select_one_vs_one(data,2,3)\n",
    "# select_one_vs_one(data,2,4)\n",
    "# select_one_vs_one(data,3,4)"
   ]
  }
 ],
 "metadata": {
  "kernelspec": {
   "display_name": "Python 3",
   "language": "python",
   "name": "python3"
  },
  "language_info": {
   "codemirror_mode": {
    "name": "ipython",
    "version": 3
   },
   "file_extension": ".py",
   "mimetype": "text/x-python",
   "name": "python",
   "nbconvert_exporter": "python",
   "pygments_lexer": "ipython3",
   "version": "3.8.5"
  }
 },
 "nbformat": 4,
 "nbformat_minor": 4
}
