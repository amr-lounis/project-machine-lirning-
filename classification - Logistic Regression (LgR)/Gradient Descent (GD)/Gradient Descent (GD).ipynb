{
 "cells": [
  {
   "cell_type": "markdown",
   "id": "b0e8107c",
   "metadata": {},
   "source": [
    "### import librrary"
   ]
  },
  {
   "cell_type": "code",
   "execution_count": 1,
   "id": "2bb1170e",
   "metadata": {},
   "outputs": [],
   "source": [
    "import numpy as np\n",
    "import pandas as pd\n",
    "import matplotlib.pyplot as plt"
   ]
  },
  {
   "cell_type": "markdown",
   "id": "728245e6",
   "metadata": {},
   "source": [
    "### select columns"
   ]
  },
  {
   "cell_type": "code",
   "execution_count": 2,
   "id": "9e4c9602",
   "metadata": {},
   "outputs": [],
   "source": [
    "columns = [\n",
    "    'wifi_01',\n",
    "    'wifi_02',\n",
    "    'wifi_03',\n",
    "    'wifi_04',\n",
    "    'wifi_05',\n",
    "    'wifi_06',\n",
    "    'wifi_07',\n",
    "    'room'\n",
    "    ]"
   ]
  },
  {
   "cell_type": "markdown",
   "id": "b891f2f6",
   "metadata": {},
   "source": [
    "### read data to matrix"
   ]
  },
  {
   "cell_type": "code",
   "execution_count": 3,
   "id": "824e20c7",
   "metadata": {},
   "outputs": [],
   "source": [
    "def redData(path):\n",
    "    # read selected data\n",
    "    data = pd.read_csv(path,usecols=columns)\n",
    "    \n",
    "    # rescaling data\n",
    "    for i in range(0,len(columns)-1):\n",
    "        data[columns[i]] = (data[columns[i]] - data[columns[i]].min()) / (data[columns[i]].max()-data[columns[i]].min())\n",
    "    \n",
    "    # convert data to numpy matrix\n",
    "    cols = data.shape[1]\n",
    "    xd = data.iloc[:,0:cols-1]\n",
    "    yd = data.iloc[:,cols-1:cols] \n",
    "    x = np.matrix(xd.values)\n",
    "    y = np.matrix(yd.values)\n",
    "    \n",
    "    ones = np.ones((x.shape[0],1))\n",
    "    x = np.hstack([ones, x])\n",
    "    \n",
    "    return x,y,data"
   ]
  },
  {
   "cell_type": "markdown",
   "id": "9b5c5f92",
   "metadata": {},
   "source": [
    "### sigmoid function return probability between 1 and 0"
   ]
  },
  {
   "cell_type": "code",
   "execution_count": 4,
   "id": "da726d48",
   "metadata": {},
   "outputs": [],
   "source": [
    "def sigmoid_function(a):\n",
    "    return 1.0 / (1 + np.exp(-a))"
   ]
  },
  {
   "cell_type": "markdown",
   "id": "9358e373",
   "metadata": {},
   "source": [
    "### gradient Descent function return old theta"
   ]
  },
  {
   "cell_type": "code",
   "execution_count": 5,
   "id": "eb32937b",
   "metadata": {},
   "outputs": [],
   "source": [
    "def gradient_Descent_function( _x , _y, _theta, _learning_rate):\n",
    "    m = _x.shape[1]\n",
    "    h = sigmoid_function(np.matmul(_x, _theta))\n",
    "    grad = np.matmul(_x.T, (h - _y)) / m;\n",
    "    _theta = _theta - _learning_rate * grad\n",
    "    return _theta"
   ]
  },
  {
   "cell_type": "markdown",
   "id": "565ddac9",
   "metadata": {},
   "source": [
    "### Report in order to get less error and better theta"
   ]
  },
  {
   "cell_type": "code",
   "execution_count": 6,
   "id": "f088244e",
   "metadata": {},
   "outputs": [],
   "source": [
    "def gradient_Descent_Iterations_function( _x , _y , _learning_rate, _repetition):\n",
    "    _theta  = np.matrix(np.zeros(_x.shape[1])).reshape([-1, 1])\n",
    "    costs = np.zeros(_repetition)\n",
    "    for i in range(_repetition):\n",
    "        _theta = gradient_Descent_function(_x, _y,_theta, _learning_rate)\n",
    "        costs[i] = cost_function(_x, _y, _theta)\n",
    "    return _theta , costs"
   ]
  },
  {
   "cell_type": "markdown",
   "id": "78b14717",
   "metadata": {},
   "source": [
    "### cost function "
   ]
  },
  {
   "cell_type": "code",
   "execution_count": 7,
   "id": "f3232dff",
   "metadata": {},
   "outputs": [],
   "source": [
    "def cost_function(x, y, theta):\n",
    "    m = x.shape[0]\n",
    "    h = sigmoid_function(np.matmul(x, theta))\n",
    "    cost = (np.matmul(-y.T, np.log(h)) - np.matmul((1 -y.T), np.log(1 - h)))/m\n",
    "    return cost"
   ]
  },
  {
   "cell_type": "markdown",
   "id": "018ac87e",
   "metadata": {},
   "source": [
    "### predict_function"
   ]
  },
  {
   "cell_type": "code",
   "execution_count": 8,
   "id": "232fe546",
   "metadata": {},
   "outputs": [],
   "source": [
    "def predict_function(theta, X):\n",
    "    probability = sigmoid_function(X * theta)\n",
    "    return [1 if x >= 0.5 else 0 for x in probability]"
   ]
  },
  {
   "cell_type": "markdown",
   "id": "cd8511f4",
   "metadata": {},
   "source": [
    "### accuracy function"
   ]
  },
  {
   "cell_type": "code",
   "execution_count": 9,
   "id": "3ec08e97",
   "metadata": {},
   "outputs": [],
   "source": [
    "def accuracy_function(_y,_p):\n",
    "    sizeArray = len(_y)\n",
    "    trueVal = 0\n",
    "    errorVal = 0\n",
    "    for i in range(0, sizeArray):\n",
    "        if _y[i] == _p[i]:\n",
    "            trueVal += 1\n",
    "        else:\n",
    "            errorVal +=1\n",
    "    accuracy = trueVal*100 / sizeArray\n",
    "    print ( \n",
    "        (\n",
    "           'true  prediction {1}\\n'+\n",
    "           'wrong prediction {2}\\n'+\n",
    "           'total prediction {3}\\n'+\n",
    "           'accuracy = {0:5.2f}% \\n'\n",
    "        ).format(accuracy,trueVal, errorVal ,sizeArray))"
   ]
  },
  {
   "cell_type": "markdown",
   "id": "f1531db9",
   "metadata": {},
   "source": [
    "### plot costs of trining"
   ]
  },
  {
   "cell_type": "code",
   "execution_count": 10,
   "id": "705754b9",
   "metadata": {},
   "outputs": [],
   "source": [
    "def plot_cost(_costs):\n",
    "    fig, ax = plt.subplots(figsize=(5,5))\n",
    "    ax.plot(np.arange(len(_costs)), _costs, 'r')\n",
    "    ax.set_xlabel('Iterations')\n",
    "    ax.set_ylabel('Cost')\n",
    "    ax.set_title('Cost vs. Training')\n",
    "    plt.show()"
   ]
  },
  {
   "cell_type": "code",
   "execution_count": 11,
   "id": "b708de2d",
   "metadata": {},
   "outputs": [],
   "source": [
    "def plotOne(_data,_theta,xName,yName):\n",
    "    room_0 = _data[_data['room'].isin([0])]\n",
    "    room_1 = _data[_data['room'].isin([1])]\n",
    "    \n",
    "    fig, ax = plt.subplots(figsize=(5,5))\n",
    "    ax.scatter(room_0[xName], room_0[yName], s=10, c='r', marker='.', label='0')\n",
    "    ax.scatter(room_1[xName], room_1[yName], s=10, c='b', marker='.', label='1')\n",
    "\n",
    "    ax.legend()\n",
    "    ax.set_xlabel(xName)\n",
    "    ax.set_ylabel(yName)\n",
    "\n",
    "    _theta = np.hstack(np.array(_theta))\n",
    "    x = np.linspace(_data[xName].min(), _data[xName].max(), 50)\n",
    "    \n",
    "\n",
    "    #somTheta = 0\n",
    "    #for i in (1,X.shape[1]-1):\n",
    "    #    somTheta = somTheta + _theta[i]  \n",
    "    #f =  _theta[0] + somTheta * x/7\n",
    "    \n",
    "    f =  _theta[0] + ( _theta[columns.index(xName)+1] + _theta[columns.index(yName)+1])*x\n",
    "    f = np.hstack(np.array(f))\n",
    "    \n",
    "    ax.plot(x, f, 'g', label='decision boundary')\n",
    "    ax.legend()\n",
    "    plt.show()"
   ]
  },
  {
   "cell_type": "code",
   "execution_count": 12,
   "id": "9b55a786",
   "metadata": {},
   "outputs": [],
   "source": [
    "def plotAll(_data,_theta):\n",
    "    for i in range(0,len(columns)-1):\n",
    "        for j in range(i+1,len(columns)-1):\n",
    "            print(columns[i],columns[j])\n",
    "            plotOne(_data,_theta,columns[i],columns[j])"
   ]
  },
  {
   "cell_type": "code",
   "execution_count": 13,
   "id": "71431d18",
   "metadata": {},
   "outputs": [
    {
     "name": "stdout",
     "output_type": "stream",
     "text": [
      "theta of gradientDescent : [[ 13.48726601]\n",
      " [-14.11161335]\n",
      " [  5.607026  ]\n",
      " [-11.17512497]\n",
      " [-14.10770794]\n",
      " [-12.49717083]\n",
      " [  2.54976206]\n",
      " [  0.83564795]]\n",
      "cost  of gradientDescent : [[0.03989319]]\n"
     ]
    },
    {
     "data": {
      "image/png": "[encoded data removed]",
      "text/plain": [
       "<Figure size 360x360 with 1 Axes>"
      ]
     },
     "metadata": {
      "needs_background": "light"
     },
     "output_type": "display_data"
    }
   ],
   "source": [
    "X,Y,data = redData('../data/data_clean_one_vs_rest_1.csv')\n",
    "    \n",
    "n_iterations  = 70 \n",
    "learning_rate = 0.1 \n",
    "\n",
    "theta ,costs =gradient_Descent_Iterations_function(X,Y,learning_rate,n_iterations)\n",
    "\n",
    "print('theta of gradientDescent :',theta)\n",
    "print('cost  of gradientDescent :',cost_function(X, Y, theta))\n",
    "\n",
    "plot_cost(costs)"
   ]
  },
  {
   "cell_type": "code",
   "execution_count": 14,
   "id": "b3a8a9ff",
   "metadata": {},
   "outputs": [
    {
     "name": "stdout",
     "output_type": "stream",
     "text": [
      "true  prediction 1989\n",
      "wrong prediction 11\n",
      "total prediction 2000\n",
      "accuracy = 99.45% \n",
      "\n"
     ]
    }
   ],
   "source": [
    "p = predict_function(theta,X)\n",
    "accuracy_function(Y, p)"
   ]
  },
  {
   "cell_type": "code",
   "execution_count": 15,
   "id": "b053d951",
   "metadata": {
    "scrolled": true
   },
   "outputs": [
    {
     "data": {
      "image/png": "[encoded data removed]",
      "text/plain": [
       "<Figure size 360x360 with 1 Axes>"
      ]
     },
     "metadata": {
      "needs_background": "light"
     },
     "output_type": "display_data"
    }
   ],
   "source": [
    "plotOne(data,theta,'wifi_01','wifi_04')"
   ]
  },
  {
   "cell_type": "markdown",
   "id": "b72507bb",
   "metadata": {},
   "source": [
    "### multi class classification"
   ]
  },
  {
   "cell_type": "code",
   "execution_count": 16,
   "id": "5167b3f5",
   "metadata": {},
   "outputs": [
    {
     "name": "stdout",
     "output_type": "stream",
     "text": [
      "probabilities :  [matrix([[3.06136095e-05]]), matrix([[0.99958351]]), matrix([[1.08515924e-15]]), matrix([[2.30538375e-08]])]\n",
      "max probability in index:  1\n",
      "default class of new x is : ../data/data_clean_one_vs_rest_2.csv : room : 2\n"
     ]
    }
   ],
   "source": [
    "# return index of default class from lit of theta of new x \n",
    "def get_index_default_class_of_x(_theta_all,_x_new):\n",
    "    _probabilities = []\n",
    "    for i in range(0,len(theta_all)):\n",
    "        _probability = sigmoid_function(_x_new * _theta_all[i])\n",
    "        _probabilities.append(_probability)\n",
    "    _index_of_max = np.argmax(_probabilities)\n",
    "    print('probabilities : ',_probabilities,)\n",
    "    print('max probability in index: ',_index_of_max,)\n",
    "    return _index_of_max\n",
    "    \n",
    "# triing all model \n",
    "def run_trining(_paths):\n",
    "    _n_iterations  = 500\n",
    "    _learning_rate = 0.1\n",
    "    \n",
    "    _theta_all = []\n",
    "    for i in range(0,len(_paths)):\n",
    "        _X,_Y,_data = redData(_paths[i])\n",
    "        _theta ,_ =gradient_Descent_Iterations_function(_X,_Y,_learning_rate,_n_iterations)\n",
    "        _theta_all.append(_theta)\n",
    "    return _theta_all\n",
    "# ------------------------------------\n",
    "paths_ovr= ['../data/data_clean_one_vs_rest_1.csv',\n",
    "            '../data/data_clean_one_vs_rest_2.csv',\n",
    "            '../data/data_clean_one_vs_rest_3.csv',\n",
    "            '../data/data_clean_one_vs_rest_4.csv']\n",
    "\n",
    "theta_all = run_trining(paths_ovr)\n",
    "# ------------------------------------\n",
    "#XX,_,_ = redData(paths_ovr[0])\n",
    "#print(XX[1300])\n",
    "_x_new_1 = [[1.,0.1,0.6,0.3,0.1,0.3,0.4,0.4]]\n",
    "_x_new_2 = [[1.,0.5,0.6,0.5,0.6,0.5,0.8,0.8]]\n",
    "\n",
    "index_of_max = get_index_default_class_of_x(theta_all,_x_new_2)\n",
    "\n",
    "\n",
    "print(\"default class of new x is : {0} : room : {1}\".format(paths_ovr[index_of_max],index_of_max+1))"
   ]
  }
 ],
 "metadata": {
  "kernelspec": {
   "display_name": "Python 3 (ipykernel)",
   "language": "python",
   "name": "python3"
  },
  "language_info": {
   "codemirror_mode": {
    "name": "ipython",
    "version": 3
   },
   "file_extension": ".py",
   "mimetype": "text/x-python",
   "name": "python",
   "nbconvert_exporter": "python",
   "pygments_lexer": "ipython3",
   "version": "3.9.7"
  }
 },
 "nbformat": 4,
 "nbformat_minor": 5
}
