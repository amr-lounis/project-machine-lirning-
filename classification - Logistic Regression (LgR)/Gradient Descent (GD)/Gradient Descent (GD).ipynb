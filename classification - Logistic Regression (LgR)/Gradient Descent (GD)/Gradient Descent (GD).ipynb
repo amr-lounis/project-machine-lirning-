{
 "cells": [
  {
   "cell_type": "markdown",
   "metadata": {},
   "source": [
    "### import librrary"
   ]
  },
  {
   "cell_type": "code",
   "execution_count": 1,
   "metadata": {},
   "outputs": [],
   "source": [
    "import numpy as np\n",
    "import pandas as pd\n",
    "import matplotlib.pyplot as plt"
   ]
  },
  {
   "cell_type": "markdown",
   "metadata": {},
   "source": [
    "### select columns"
   ]
  },
  {
   "cell_type": "code",
   "execution_count": 2,
   "metadata": {},
   "outputs": [],
   "source": [
    "columns = [\n",
    "    'wifi_01',\n",
    "    'wifi_02',\n",
    "    'wifi_03',\n",
    "    'wifi_04',\n",
    "    'wifi_05',\n",
    "    'wifi_06',\n",
    "    'wifi_07',\n",
    "    'room'\n",
    "    ]"
   ]
  },
  {
   "cell_type": "markdown",
   "metadata": {},
   "source": [
    "### function  read data and convert to matrix"
   ]
  },
  {
   "cell_type": "code",
   "execution_count": 3,
   "metadata": {},
   "outputs": [],
   "source": [
    "def redData(path):\n",
    "    # read selected data\n",
    "    data = pd.read_csv(path,usecols=columns)\n",
    "    \n",
    "    # convert data to numpy matrix\n",
    "    cols = data.shape[1]\n",
    "    xd = data.iloc[:,0:cols-1]\n",
    "    yd = data.iloc[:,cols-1:cols] \n",
    "    x = np.matrix(xd.values)\n",
    "    y = np.matrix(yd.values)\n",
    "    \n",
    "    # inset column One for theta[0]\n",
    "    ones = np.ones((x.shape[0],1))\n",
    "    x = np.hstack([ones, x])\n",
    "    \n",
    "    return x,y,data"
   ]
  },
  {
   "cell_type": "markdown",
   "metadata": {},
   "source": [
    "### function hypothesis function return probability between 1 and 0"
   ]
  },
  {
   "cell_type": "code",
   "execution_count": 4,
   "metadata": {},
   "outputs": [],
   "source": [
    "def hypothesis_function(a):\n",
    "    return 1.0 / (1 + np.exp(-a))"
   ]
  },
  {
   "cell_type": "markdown",
   "metadata": {},
   "source": [
    "### function  cost"
   ]
  },
  {
   "cell_type": "code",
   "execution_count": 5,
   "metadata": {},
   "outputs": [],
   "source": [
    "def cost_function(x, y, theta):\n",
    "    m = x.shape[0]\n",
    "    h = hypothesis_function(np.matmul(x, theta))\n",
    "    cost = (np.matmul(-y.T, np.log(h)) - np.matmul((1 -y.T), np.log(1 - h)))/m\n",
    "    return cost"
   ]
  },
  {
   "cell_type": "markdown",
   "metadata": {},
   "source": [
    "### function  J"
   ]
  },
  {
   "cell_type": "code",
   "execution_count": 6,
   "metadata": {},
   "outputs": [],
   "source": [
    "def gradient_Descent_function( _x , _y, _theta, _learning_rate):\n",
    "    m = _x.shape[1]\n",
    "    h = hypothesis_function(np.matmul(_x, _theta))\n",
    "    grad = np.matmul(_x.T, (h - _y)) / m;\n",
    "    _theta = _theta - _learning_rate * grad\n",
    "    return _theta"
   ]
  },
  {
   "cell_type": "markdown",
   "metadata": {},
   "source": [
    "### return theta of Gradient Descent binary classifiers of minimall cost and array of all cost"
   ]
  },
  {
   "cell_type": "code",
   "execution_count": 7,
   "metadata": {},
   "outputs": [],
   "source": [
    "def gradient_Descent_Iterations_function( _x , _y , _learning_rate, _repetition):\n",
    "    _theta  = np.matrix(np.zeros(_x.shape[1])).reshape([-1, 1])\n",
    "    costs = np.zeros(_repetition)\n",
    "    _t = []\n",
    "    for i in range(_repetition):\n",
    "        _theta = gradient_Descent_function(_x, _y,_theta, _learning_rate)\n",
    "        _t.append(_theta)\n",
    "        costs[i] = cost_function(_x, _y, _theta)\n",
    "    index_min_cost = np.argmin(costs)\n",
    "    return _t[index_min_cost] , costs"
   ]
  },
  {
   "cell_type": "markdown",
   "metadata": {},
   "source": [
    "### function predict"
   ]
  },
  {
   "cell_type": "code",
   "execution_count": 8,
   "metadata": {},
   "outputs": [],
   "source": [
    "def predict_function(theta, X):\n",
    "    probability = hypothesis_function(X * theta)\n",
    "    return [1 if x >= 0.5 else 0 for x in probability]"
   ]
  },
  {
   "cell_type": "markdown",
   "metadata": {},
   "source": [
    "### function accuracy"
   ]
  },
  {
   "cell_type": "code",
   "execution_count": 9,
   "metadata": {},
   "outputs": [],
   "source": [
    "def accuracy_function(_y,_p):\n",
    "    sizeArray = len(_y)\n",
    "    trueVal = 0\n",
    "    errorVal = 0\n",
    "    for i in range(0, sizeArray):\n",
    "        if _y[i] == _p[i]:\n",
    "            trueVal += 1\n",
    "        else:\n",
    "            errorVal +=1\n",
    "    accuracy = trueVal*100 / sizeArray\n",
    "    print ( \n",
    "        (\n",
    "           'true  prediction {1}\\n'+\n",
    "           'wrong prediction {2}\\n'+\n",
    "           'total prediction {3}\\n'+\n",
    "           'accuracy = {0:5.2f}% \\n'\n",
    "        ).format(accuracy,trueVal, errorVal ,sizeArray))"
   ]
  },
  {
   "cell_type": "markdown",
   "metadata": {},
   "source": [
    "### function plot costs of trining"
   ]
  },
  {
   "cell_type": "code",
   "execution_count": 10,
   "metadata": {},
   "outputs": [],
   "source": [
    "def plot_cost(_costs):\n",
    "    fig, ax = plt.subplots(figsize=(5,5))\n",
    "    ax.plot(np.arange(len(_costs)), _costs, 'r')\n",
    "    ax.set_xlabel('Iterations')\n",
    "    ax.set_ylabel('Cost')\n",
    "    ax.set_title('Cost vs. Training')\n",
    "    plt.show()"
   ]
  },
  {
   "cell_type": "markdown",
   "metadata": {},
   "source": [
    "### plot data"
   ]
  },
  {
   "cell_type": "code",
   "execution_count": 11,
   "metadata": {},
   "outputs": [],
   "source": [
    "def plotAll(_data,xName,yName):\n",
    "    room_1 = _data[_data['room'].isin([1])]\n",
    "    room_2 = _data[_data['room'].isin([2])]\n",
    "    room_3 = _data[_data['room'].isin([3])]\n",
    "    room_4 = _data[_data['room'].isin([4])]\n",
    "    \n",
    "    fig, ax = plt.subplots(figsize=(7,7))\n",
    "    ax.scatter(room_1[xName], room_1[yName], s=10, c='r', marker='.', label='room_1')\n",
    "    ax.scatter(room_2[xName], room_2[yName], s=10, c='g', marker='.', label='room_2')\n",
    "    ax.scatter(room_3[xName], room_3[yName], s=10, c='b', marker='.', label='room_3')\n",
    "    ax.scatter(room_4[xName], room_4[yName], s=10, c='y', marker='.', label='room_4')\n",
    "\n",
    "    ax.legend()\n",
    "    ax.set_xlabel(xName)\n",
    "    ax.set_ylabel(yName)\n",
    "\n",
    "    plt.show()  "
   ]
  },
  {
   "cell_type": "markdown",
   "metadata": {},
   "source": [
    "### function run trining and return theta "
   ]
  },
  {
   "cell_type": "code",
   "execution_count": 12,
   "metadata": {},
   "outputs": [],
   "source": [
    "paths_ovr= ['../data/data_clean_one_vs_rest_1.csv',\n",
    "            '../data/data_clean_one_vs_rest_2.csv',\n",
    "            '../data/data_clean_one_vs_rest_3.csv',\n",
    "            '../data/data_clean_one_vs_rest_4.csv']\n",
    "\n",
    "def run_trining(_path,_learning_rate,_n_iterations):\n",
    "    X,Y,data = redData(_path)\n",
    "    theta ,costs =gradient_Descent_Iterations_function(X,Y,_learning_rate,_n_iterations)\n",
    "    print('-- theta of gradientDescent :',_path,'\\n',theta)\n",
    "    print('cost  of gradientDescent :',cost_function(X, Y, theta))\n",
    "    # plot cost vs Training\n",
    "    plot_cost(costs)\n",
    "    # plot cost vs Training\n",
    "    p = predict_function(theta,X)\n",
    "    accuracy_function(Y, p)\n",
    "    return theta"
   ]
  },
  {
   "cell_type": "code",
   "execution_count": 13,
   "metadata": {},
   "outputs": [
    {
     "name": "stdout",
     "output_type": "stream",
     "text": [
      "-- theta of gradientDescent : ../data/data_clean_one_vs_rest_1.csv \n",
      " [[ 12.69652493]\n",
      " [-13.75668774]\n",
      " [  5.37998922]\n",
      " [-10.29771698]\n",
      " [-13.76750865]\n",
      " [-12.09363813]\n",
      " [  2.73275783]\n",
      " [  0.94576568]]\n",
      "cost  of gradientDescent : [[0.04133135]]\n"
     ]
    },
    {
     "data": {
      "image/png": "[encoded data removed]",
      "text/plain": [
       "<Figure size 360x360 with 1 Axes>"
      ]
     },
     "metadata": {
      "needs_background": "light"
     },
     "output_type": "display_data"
    },
    {
     "name": "stdout",
     "output_type": "stream",
     "text": [
      "true  prediction 1989\n",
      "wrong prediction 11\n",
      "total prediction 2000\n",
      "accuracy = 99.45% \n",
      "\n"
     ]
    }
   ],
   "source": [
    "theta_room1 = run_trining(paths_ovr[0],0.08,100)"
   ]
  },
  {
   "cell_type": "code",
   "execution_count": 14,
   "metadata": {},
   "outputs": [
    {
     "name": "stdout",
     "output_type": "stream",
     "text": [
      "-- theta of gradientDescent : ../data/data_clean_one_vs_rest_2.csv \n",
      " [[-9.45443045]\n",
      " [12.03163776]\n",
      " [-5.54074648]\n",
      " [-6.04152634]\n",
      " [11.37353675]\n",
      " [-8.95737222]\n",
      " [ 9.10137613]\n",
      " [ 8.60616612]]\n",
      "cost  of gradientDescent : [[0.04391299]]\n"
     ]
    },
    {
     "data": {
      "image/png": "[encoded data removed]",
      "text/plain": [
       "<Figure size 360x360 with 1 Axes>"
      ]
     },
     "metadata": {
      "needs_background": "light"
     },
     "output_type": "display_data"
    },
    {
     "name": "stdout",
     "output_type": "stream",
     "text": [
      "true  prediction 1965\n",
      "wrong prediction 35\n",
      "total prediction 2000\n",
      "accuracy = 98.25% \n",
      "\n"
     ]
    }
   ],
   "source": [
    "theta_room2 = run_trining(paths_ovr[1],0.08,100)"
   ]
  },
  {
   "cell_type": "code",
   "execution_count": 15,
   "metadata": {},
   "outputs": [
    {
     "name": "stdout",
     "output_type": "stream",
     "text": [
      "-- theta of gradientDescent : ../data/data_clean_one_vs_rest_3.csv \n",
      " [[-6.19319615]\n",
      " [ 7.35044137]\n",
      " [ 2.70310585]\n",
      " [12.85710944]\n",
      " [ 7.93976437]\n",
      " [-6.99431909]\n",
      " [-6.10658134]\n",
      " [-8.19159351]]\n",
      "cost  of gradientDescent : [[0.52629315]]\n"
     ]
    },
    {
     "data": {
      "image/png": "[encoded data removed]",
      "text/plain": [
       "<Figure size 360x360 with 1 Axes>"
      ]
     },
     "metadata": {
      "needs_background": "light"
     },
     "output_type": "display_data"
    },
    {
     "name": "stdout",
     "output_type": "stream",
     "text": [
      "true  prediction 1514\n",
      "wrong prediction 486\n",
      "total prediction 2000\n",
      "accuracy = 75.70% \n",
      "\n"
     ]
    }
   ],
   "source": [
    "theta_room3 = run_trining(paths_ovr[2],0.08,100)"
   ]
  },
  {
   "cell_type": "code",
   "execution_count": 16,
   "metadata": {},
   "outputs": [
    {
     "name": "stdout",
     "output_type": "stream",
     "text": [
      "-- theta of gradientDescent : ../data/data_clean_one_vs_rest_4.csv \n",
      " [[-4.39946159]\n",
      " [-7.36690725]\n",
      " [-1.11294282]\n",
      " [ 7.13847376]\n",
      " [-6.74644824]\n",
      " [17.59334954]\n",
      " [-9.02362267]\n",
      " [-7.64416932]]\n",
      "cost  of gradientDescent : [[0.03052463]]\n"
     ]
    },
    {
     "data": {
      "image/png": "[encoded data removed]",
      "text/plain": [
       "<Figure size 360x360 with 1 Axes>"
      ]
     },
     "metadata": {
      "needs_background": "light"
     },
     "output_type": "display_data"
    },
    {
     "name": "stdout",
     "output_type": "stream",
     "text": [
      "true  prediction 1987\n",
      "wrong prediction 13\n",
      "total prediction 2000\n",
      "accuracy = 99.35% \n",
      "\n"
     ]
    }
   ],
   "source": [
    "theta_room4 = run_trining(paths_ovr[3],0.08,100)"
   ]
  },
  {
   "cell_type": "markdown",
   "metadata": {},
   "source": [
    "# multi class classification\n"
   ]
  },
  {
   "cell_type": "markdown",
   "metadata": {},
   "source": [
    "### all theta in one array"
   ]
  },
  {
   "cell_type": "code",
   "execution_count": 17,
   "metadata": {},
   "outputs": [],
   "source": [
    "theta_all = [theta_room1,theta_room2,theta_room3,theta_room4,]"
   ]
  },
  {
   "cell_type": "markdown",
   "metadata": {},
   "source": [
    "### function predict multiClass for new one X"
   ]
  },
  {
   "cell_type": "code",
   "execution_count": 18,
   "metadata": {},
   "outputs": [],
   "source": [
    "def predict_multiClass(_theta_all,_x_new):\n",
    "    _probabilities = []\n",
    "    for i in range(0,len(_theta_all)):\n",
    "        _probability = hypothesis_function(_x_new * _theta_all[i])\n",
    "        _probabilities.append(_probability)\n",
    "    _index_of_max = np.argmax(_probabilities)\n",
    "    # print('probabilities : ',_probabilities,)\n",
    "    # print('max probability in index: ',_index_of_max,)\n",
    "    return _index_of_max + 1 # number of room equel index +1"
   ]
  },
  {
   "cell_type": "markdown",
   "metadata": {},
   "source": [
    "### testing multi class classification for new x"
   ]
  },
  {
   "cell_type": "code",
   "execution_count": 19,
   "metadata": {},
   "outputs": [
    {
     "name": "stdout",
     "output_type": "stream",
     "text": [
      "true  prediction 1908\n",
      "wrong prediction 92\n",
      "total prediction 2000\n",
      "accuracy = 95.40% \n",
      "\n"
     ]
    },
    {
     "data": {
      "image/png": "[encoded data removed]",
      "text/plain": [
       "<Figure size 504x504 with 1 Axes>"
      ]
     },
     "metadata": {
      "needs_background": "light"
     },
     "output_type": "display_data"
    }
   ],
   "source": [
    "#test for multi class classification all X in dataset\n",
    "theta_all = [theta_room1,theta_room2,theta_room3,theta_room4,]\n",
    "\n",
    "X,Y,data = redData('../data/data_clean.csv')\n",
    "\n",
    "vv= data.corr()\n",
    "y_predict_rooms =[]\n",
    "for v in X:\n",
    "    p=predict_multiClass(theta_all,v)\n",
    "    y_predict_rooms.append(p)\n",
    "\n",
    "accuracy_function(Y,y_predict_rooms)\n",
    "\n",
    "plotAll(data,'wifi_01','wifi_05',)\n"
   ]
  }
 ],
 "metadata": {
  "kernelspec": {
   "display_name": "Python 3",
   "language": "python",
   "name": "python3"
  },
  "language_info": {
   "codemirror_mode": {
    "name": "ipython",
    "version": 3
   },
   "file_extension": ".py",
   "mimetype": "text/x-python",
   "name": "python",
   "nbconvert_exporter": "python",
   "pygments_lexer": "ipython3",
   "version": "3.8.5"
  }
 },
 "nbformat": 4,
 "nbformat_minor": 5
}
