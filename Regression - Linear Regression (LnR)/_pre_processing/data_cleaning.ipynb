{
 "cells": [
  {
   "cell_type": "markdown",
   "metadata": {},
   "source": [
    " ###  import librrary"
   ]
  },
  {
   "cell_type": "code",
   "execution_count": 1,
   "metadata": {},
   "outputs": [],
   "source": [
    "import pandas as pd"
   ]
  },
  {
   "cell_type": "markdown",
   "metadata": {},
   "source": [
    " ###  read file"
   ]
  },
  {
   "cell_type": "code",
   "execution_count": 2,
   "metadata": {},
   "outputs": [],
   "source": [
    "_path_data = '../data/'\n",
    "_path = _path_data+'Metro_Interstate_Traffic_Volume.csv'"
   ]
  },
  {
   "cell_type": "markdown",
   "metadata": {},
   "source": [
    " ###  select data"
   ]
  },
  {
   "cell_type": "code",
   "execution_count": 3,
   "metadata": {},
   "outputs": [],
   "source": [
    "columns = [\n",
    "'temp',\n",
    "'rain_1h',\n",
    "'snow_1h',\n",
    "'clouds_all',\n",
    "'date_time',\n",
    "'traffic_volume'\n",
    "]"
   ]
  },
  {
   "cell_type": "markdown",
   "metadata": {},
   "source": [
    " ###  read selected data without commant"
   ]
  },
  {
   "cell_type": "code",
   "execution_count": 4,
   "metadata": {},
   "outputs": [],
   "source": [
    "data = pd.read_csv(_path,comment='#',usecols=columns, sep=',')"
   ]
  },
  {
   "cell_type": "markdown",
   "metadata": {},
   "source": [
    " ###  Convert the text value to the global formula of date and then divide it into number values that can be handled"
   ]
  },
  {
   "cell_type": "code",
   "execution_count": 5,
   "metadata": {},
   "outputs": [],
   "source": [
    "data['date_time'] = data['date_time'].astype('datetime64[ns]')\n",
    "data.insert(0,'time_hour',data['date_time'].dt.hour)\n",
    "data.insert(0,'time_dayofmonth',data['date_time'].dt.day)\n",
    "data.insert(0,'time_month',data['date_time'].dt.month)\n",
    "data.insert(0,'time_year',data['date_time'].dt.year)\n",
    "data.insert(0,'time_dayofweek',data['date_time'].dt.dayofweek)  \n",
    "\n",
    "# drop column date_time\n",
    "data.drop('date_time', inplace=True, axis=1)"
   ]
  },
  {
   "cell_type": "markdown",
   "metadata": {},
   "source": [
    " ### Temperature : Kelvin > Celsius and delete temp values < -30 Celsiuss outlayer values"
   ]
  },
  {
   "cell_type": "code",
   "execution_count": 6,
   "metadata": {},
   "outputs": [],
   "source": [
    "data.insert(0,'temp_Celsius',data['temp']-273.15)\n",
    "data.drop('temp', inplace=True, axis=1)\n",
    "    \n",
    "vv= data[data['temp_Celsius'] <- 30].index\n",
    "data = data.drop(vv)"
   ]
  },
  {
   "cell_type": "markdown",
   "metadata": {},
   "source": [
    "### normalization data"
   ]
  },
  {
   "cell_type": "code",
   "execution_count": 7,
   "metadata": {},
   "outputs": [],
   "source": [
    "data = (data - data.min()) / (data.max()-data.min())"
   ]
  },
  {
   "cell_type": "markdown",
   "metadata": {},
   "source": [
    "### save data clean"
   ]
  },
  {
   "cell_type": "code",
   "execution_count": 8,
   "metadata": {},
   "outputs": [],
   "source": [
    "data.to_csv(_path_data+'data_clean.csv', index=False, encoding='utf-8-sig')"
   ]
  },
  {
   "cell_type": "code",
   "execution_count": null,
   "metadata": {},
   "outputs": [],
   "source": []
  }
 ],
 "metadata": {
  "kernelspec": {
   "display_name": "Python 3",
   "language": "python",
   "name": "python3"
  },
  "language_info": {
   "codemirror_mode": {
    "name": "ipython",
    "version": 3
   },
   "file_extension": ".py",
   "mimetype": "text/x-python",
   "name": "python",
   "nbconvert_exporter": "python",
   "pygments_lexer": "ipython3",
   "version": "3.8.5"
  }
 },
 "nbformat": 4,
 "nbformat_minor": 5
}
